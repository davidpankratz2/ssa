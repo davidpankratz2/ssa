{
 "cells": [
  {
   "cell_type": "markdown",
   "metadata": {},
   "source": [
    "# Stock Sentiment Agent Workflow"
   ]
  },
  {
   "cell_type": "markdown",
   "metadata": {},
   "source": [
    "Source: @DeepCharts Youtube Channel (https://www.youtube.com/@DeepCharts)"
   ]
  },
  {
   "cell_type": "code",
   "execution_count": 2,
   "metadata": {},
   "outputs": [
    {
     "name": "stdout",
     "output_type": "stream",
     "text": [
      "Requirement already satisfied: phidata in /Users/davidpankratz/Projects/.venv/lib/python3.12/site-packages (2.7.2)\n",
      "Requirement already satisfied: openai in /Users/davidpankratz/Projects/.venv/lib/python3.12/site-packages (1.57.4)\n",
      "Requirement already satisfied: yfinance in /Users/davidpankratz/Projects/.venv/lib/python3.12/site-packages (0.2.50)\n",
      "Requirement already satisfied: googlesearch-python in /Users/davidpankratz/Projects/.venv/lib/python3.12/site-packages (1.2.5)\n",
      "Requirement already satisfied: pycountry in /Users/davidpankratz/Projects/.venv/lib/python3.12/site-packages (24.6.1)\n",
      "Requirement already satisfied: ipywidgets in /Users/davidpankratz/Projects/.venv/lib/python3.12/site-packages (8.1.5)\n",
      "Requirement already satisfied: finvizfinance in /Users/davidpankratz/Projects/.venv/lib/python3.12/site-packages (1.1.0)\n",
      "Requirement already satisfied: statsmodels in /Users/davidpankratz/Projects/.venv/lib/python3.12/site-packages (0.14.4)\n",
      "Requirement already satisfied: gitpython in /Users/davidpankratz/Projects/.venv/lib/python3.12/site-packages (from phidata) (3.1.43)\n",
      "Requirement already satisfied: httpx in /Users/davidpankratz/Projects/.venv/lib/python3.12/site-packages (from phidata) (0.27.2)\n",
      "Requirement already satisfied: pydantic in /Users/davidpankratz/Projects/.venv/lib/python3.12/site-packages (from phidata) (2.10.3)\n",
      "Requirement already satisfied: pydantic-settings in /Users/davidpankratz/Projects/.venv/lib/python3.12/site-packages (from phidata) (2.7.0)\n",
      "Requirement already satisfied: python-dotenv in /Users/davidpankratz/Projects/.venv/lib/python3.12/site-packages (from phidata) (1.0.1)\n",
      "Requirement already satisfied: pyyaml in /Users/davidpankratz/Projects/.venv/lib/python3.12/site-packages (from phidata) (6.0.2)\n",
      "Requirement already satisfied: rich in /Users/davidpankratz/Projects/.venv/lib/python3.12/site-packages (from phidata) (13.9.4)\n",
      "Requirement already satisfied: tomli in /Users/davidpankratz/Projects/.venv/lib/python3.12/site-packages (from phidata) (2.2.1)\n",
      "Requirement already satisfied: typer in /Users/davidpankratz/Projects/.venv/lib/python3.12/site-packages (from phidata) (0.15.1)\n",
      "Requirement already satisfied: typing-extensions in /Users/davidpankratz/Projects/.venv/lib/python3.12/site-packages (from phidata) (4.12.2)\n",
      "Requirement already satisfied: anyio<5,>=3.5.0 in /Users/davidpankratz/Projects/.venv/lib/python3.12/site-packages (from openai) (4.7.0)\n",
      "Requirement already satisfied: distro<2,>=1.7.0 in /Users/davidpankratz/Projects/.venv/lib/python3.12/site-packages (from openai) (1.9.0)\n",
      "Requirement already satisfied: jiter<1,>=0.4.0 in /Users/davidpankratz/Projects/.venv/lib/python3.12/site-packages (from openai) (0.8.2)\n",
      "Requirement already satisfied: sniffio in /Users/davidpankratz/Projects/.venv/lib/python3.12/site-packages (from openai) (1.3.1)\n",
      "Requirement already satisfied: tqdm>4 in /Users/davidpankratz/Projects/.venv/lib/python3.12/site-packages (from openai) (4.67.1)\n",
      "Requirement already satisfied: pandas>=1.3.0 in /Users/davidpankratz/Projects/.venv/lib/python3.12/site-packages (from yfinance) (2.2.3)\n",
      "Requirement already satisfied: numpy>=1.16.5 in /Users/davidpankratz/Projects/.venv/lib/python3.12/site-packages (from yfinance) (2.2.0)\n",
      "Requirement already satisfied: requests>=2.31 in /Users/davidpankratz/Projects/.venv/lib/python3.12/site-packages (from yfinance) (2.32.3)\n",
      "Requirement already satisfied: multitasking>=0.0.7 in /Users/davidpankratz/Projects/.venv/lib/python3.12/site-packages (from yfinance) (0.0.11)\n",
      "Requirement already satisfied: lxml>=4.9.1 in /Users/davidpankratz/Projects/.venv/lib/python3.12/site-packages (from yfinance) (5.3.0)\n",
      "Requirement already satisfied: platformdirs>=2.0.0 in /Users/davidpankratz/Projects/.venv/lib/python3.12/site-packages (from yfinance) (4.3.6)\n",
      "Requirement already satisfied: pytz>=2022.5 in /Users/davidpankratz/Projects/.venv/lib/python3.12/site-packages (from yfinance) (2024.2)\n",
      "Requirement already satisfied: frozendict>=2.3.4 in /Users/davidpankratz/Projects/.venv/lib/python3.12/site-packages (from yfinance) (2.4.6)\n",
      "Requirement already satisfied: peewee>=3.16.2 in /Users/davidpankratz/Projects/.venv/lib/python3.12/site-packages (from yfinance) (3.17.8)\n",
      "Requirement already satisfied: beautifulsoup4>=4.11.1 in /Users/davidpankratz/Projects/.venv/lib/python3.12/site-packages (from yfinance) (4.12.3)\n",
      "Requirement already satisfied: html5lib>=1.1 in /Users/davidpankratz/Projects/.venv/lib/python3.12/site-packages (from yfinance) (1.1)\n",
      "Requirement already satisfied: comm>=0.1.3 in /Users/davidpankratz/Projects/.venv/lib/python3.12/site-packages (from ipywidgets) (0.2.2)\n",
      "Requirement already satisfied: ipython>=6.1.0 in /Users/davidpankratz/Projects/.venv/lib/python3.12/site-packages (from ipywidgets) (8.30.0)\n",
      "Requirement already satisfied: traitlets>=4.3.1 in /Users/davidpankratz/Projects/.venv/lib/python3.12/site-packages (from ipywidgets) (5.14.3)\n",
      "Requirement already satisfied: widgetsnbextension~=4.0.12 in /Users/davidpankratz/Projects/.venv/lib/python3.12/site-packages (from ipywidgets) (4.0.13)\n",
      "Requirement already satisfied: jupyterlab-widgets~=3.0.12 in /Users/davidpankratz/Projects/.venv/lib/python3.12/site-packages (from ipywidgets) (3.0.13)\n",
      "Requirement already satisfied: scipy!=1.9.2,>=1.8 in /Users/davidpankratz/Projects/.venv/lib/python3.12/site-packages (from statsmodels) (1.14.1)\n",
      "Requirement already satisfied: patsy>=0.5.6 in /Users/davidpankratz/Projects/.venv/lib/python3.12/site-packages (from statsmodels) (1.0.1)\n",
      "Requirement already satisfied: packaging>=21.3 in /Users/davidpankratz/Projects/.venv/lib/python3.12/site-packages (from statsmodels) (24.2)\n",
      "Requirement already satisfied: idna>=2.8 in /Users/davidpankratz/Projects/.venv/lib/python3.12/site-packages (from anyio<5,>=3.5.0->openai) (3.10)\n",
      "Requirement already satisfied: soupsieve>1.2 in /Users/davidpankratz/Projects/.venv/lib/python3.12/site-packages (from beautifulsoup4>=4.11.1->yfinance) (2.6)\n",
      "Requirement already satisfied: six>=1.9 in /Users/davidpankratz/Projects/.venv/lib/python3.12/site-packages (from html5lib>=1.1->yfinance) (1.17.0)\n",
      "Requirement already satisfied: webencodings in /Users/davidpankratz/Projects/.venv/lib/python3.12/site-packages (from html5lib>=1.1->yfinance) (0.5.1)\n",
      "Requirement already satisfied: certifi in /Users/davidpankratz/Projects/.venv/lib/python3.12/site-packages (from httpx->phidata) (2024.12.14)\n",
      "Requirement already satisfied: httpcore==1.* in /Users/davidpankratz/Projects/.venv/lib/python3.12/site-packages (from httpx->phidata) (1.0.7)\n",
      "Requirement already satisfied: h11<0.15,>=0.13 in /Users/davidpankratz/Projects/.venv/lib/python3.12/site-packages (from httpcore==1.*->httpx->phidata) (0.14.0)\n",
      "Requirement already satisfied: decorator in /Users/davidpankratz/Projects/.venv/lib/python3.12/site-packages (from ipython>=6.1.0->ipywidgets) (5.1.1)\n",
      "Requirement already satisfied: jedi>=0.16 in /Users/davidpankratz/Projects/.venv/lib/python3.12/site-packages (from ipython>=6.1.0->ipywidgets) (0.19.2)\n",
      "Requirement already satisfied: matplotlib-inline in /Users/davidpankratz/Projects/.venv/lib/python3.12/site-packages (from ipython>=6.1.0->ipywidgets) (0.1.7)\n",
      "Requirement already satisfied: pexpect>4.3 in /Users/davidpankratz/Projects/.venv/lib/python3.12/site-packages (from ipython>=6.1.0->ipywidgets) (4.9.0)\n",
      "Requirement already satisfied: prompt_toolkit<3.1.0,>=3.0.41 in /Users/davidpankratz/Projects/.venv/lib/python3.12/site-packages (from ipython>=6.1.0->ipywidgets) (3.0.48)\n",
      "Requirement already satisfied: pygments>=2.4.0 in /Users/davidpankratz/Projects/.venv/lib/python3.12/site-packages (from ipython>=6.1.0->ipywidgets) (2.18.0)\n",
      "Requirement already satisfied: stack_data in /Users/davidpankratz/Projects/.venv/lib/python3.12/site-packages (from ipython>=6.1.0->ipywidgets) (0.6.3)\n",
      "Requirement already satisfied: python-dateutil>=2.8.2 in /Users/davidpankratz/Projects/.venv/lib/python3.12/site-packages (from pandas>=1.3.0->yfinance) (2.9.0.post0)\n",
      "Requirement already satisfied: tzdata>=2022.7 in /Users/davidpankratz/Projects/.venv/lib/python3.12/site-packages (from pandas>=1.3.0->yfinance) (2024.2)\n",
      "Requirement already satisfied: annotated-types>=0.6.0 in /Users/davidpankratz/Projects/.venv/lib/python3.12/site-packages (from pydantic->phidata) (0.7.0)\n",
      "Requirement already satisfied: pydantic-core==2.27.1 in /Users/davidpankratz/Projects/.venv/lib/python3.12/site-packages (from pydantic->phidata) (2.27.1)\n",
      "Requirement already satisfied: charset-normalizer<4,>=2 in /Users/davidpankratz/Projects/.venv/lib/python3.12/site-packages (from requests>=2.31->yfinance) (3.4.0)\n",
      "Requirement already satisfied: urllib3<3,>=1.21.1 in /Users/davidpankratz/Projects/.venv/lib/python3.12/site-packages (from requests>=2.31->yfinance) (2.2.3)\n",
      "Requirement already satisfied: gitdb<5,>=4.0.1 in /Users/davidpankratz/Projects/.venv/lib/python3.12/site-packages (from gitpython->phidata) (4.0.11)\n",
      "Requirement already satisfied: markdown-it-py>=2.2.0 in /Users/davidpankratz/Projects/.venv/lib/python3.12/site-packages (from rich->phidata) (3.0.0)\n",
      "Requirement already satisfied: click>=8.0.0 in /Users/davidpankratz/Projects/.venv/lib/python3.12/site-packages (from typer->phidata) (8.1.7)\n",
      "Requirement already satisfied: shellingham>=1.3.0 in /Users/davidpankratz/Projects/.venv/lib/python3.12/site-packages (from typer->phidata) (1.5.4)\n",
      "Requirement already satisfied: smmap<6,>=3.0.1 in /Users/davidpankratz/Projects/.venv/lib/python3.12/site-packages (from gitdb<5,>=4.0.1->gitpython->phidata) (5.0.1)\n",
      "Requirement already satisfied: parso<0.9.0,>=0.8.4 in /Users/davidpankratz/Projects/.venv/lib/python3.12/site-packages (from jedi>=0.16->ipython>=6.1.0->ipywidgets) (0.8.4)\n",
      "Requirement already satisfied: mdurl~=0.1 in /Users/davidpankratz/Projects/.venv/lib/python3.12/site-packages (from markdown-it-py>=2.2.0->rich->phidata) (0.1.2)\n",
      "Requirement already satisfied: ptyprocess>=0.5 in /Users/davidpankratz/Projects/.venv/lib/python3.12/site-packages (from pexpect>4.3->ipython>=6.1.0->ipywidgets) (0.7.0)\n",
      "Requirement already satisfied: wcwidth in /Users/davidpankratz/Projects/.venv/lib/python3.12/site-packages (from prompt_toolkit<3.1.0,>=3.0.41->ipython>=6.1.0->ipywidgets) (0.2.13)\n",
      "Requirement already satisfied: executing>=1.2.0 in /Users/davidpankratz/Projects/.venv/lib/python3.12/site-packages (from stack_data->ipython>=6.1.0->ipywidgets) (2.1.0)\n",
      "Requirement already satisfied: asttokens>=2.1.0 in /Users/davidpankratz/Projects/.venv/lib/python3.12/site-packages (from stack_data->ipython>=6.1.0->ipywidgets) (3.0.0)\n",
      "Requirement already satisfied: pure-eval in /Users/davidpankratz/Projects/.venv/lib/python3.12/site-packages (from stack_data->ipython>=6.1.0->ipywidgets) (0.2.3)\n",
      "Note: you may need to restart the kernel to use updated packages.\n"
     ]
    }
   ],
   "source": [
    "pip install phidata openai yfinance googlesearch-python pycountry ipywidgets finvizfinance statsmodels"
   ]
  },
  {
   "cell_type": "code",
   "execution_count": 2,
   "metadata": {},
   "outputs": [],
   "source": [
    "## LIbraries\n",
    "from phi.agent import Agent\n",
    "from phi.model.openai import OpenAIChat\n",
    "from phi.tools.googlesearch import GoogleSearch\n",
    "from phi.tools.yfinance import YFinanceTools"
   ]
  },
  {
   "cell_type": "code",
   "execution_count": 3,
   "metadata": {},
   "outputs": [],
   "source": [
    "## Put Open AI API key into Python environment\n",
    "import os\n",
    "os.environ[\"OPENAI_API_KEY\"] = 'sk-XXXXXXXX'"
   ]
  },
  {
   "cell_type": "code",
   "execution_count": null,
   "metadata": {},
   "outputs": [
    {
     "data": {
      "application/vnd.jupyter.widget-view+json": {
       "model_id": "135c8671d1854c72a73cd209f6a6e7a6",
       "version_major": 2,
       "version_minor": 0
      },
      "text/plain": [
       "Output()"
      ]
     },
     "metadata": {},
     "output_type": "display_data"
    },
    {
     "data": {
      "text/html": [
       "<pre style=\"white-space:pre;overflow-x:auto;line-height:normal;font-family:Menlo,'DejaVu Sans Mono',consolas,'Courier New',monospace\"></pre>\n"
      ],
      "text/plain": []
     },
     "metadata": {},
     "output_type": "display_data"
    }
   ],
   "source": [
    "## Create Agents\n",
    "\n",
    "# Sentiment Agent\n",
    "sentiment_agent = Agent(\n",
    "    name=\"Sentiment Agent\",\n",
    "    role=\"Search and interpret news articles.\",\n",
    "    model=OpenAIChat(id=\"gpt-4o\"),\n",
    "    tools=[GoogleSearch()],\n",
    "    instructions=[\n",
    "        \"Find relevant news articles for each company and analyze the sentiment.\",\n",
    "        \"Provide sentiment scores from 1 (negative) to 10 (positive) with reasoning and sources.\"\n",
    "        \"Cite your sources. Be specific and provide links.\"\n",
    "    ],\n",
    "    show_tool_calls=True,\n",
    "    markdown=True,\n",
    ")\n",
    "\n",
    "# Finance Agent\n",
    "finance_agent = Agent(\n",
    "    name=\"Finance Agent\",\n",
    "    role=\"Get financial data and interpret trends.\",\n",
    "    model=OpenAIChat(id=\"gpt-4o\"),\n",
    "    tools=[YFinanceTools(stock_price=True, analyst_recommendations=True, company_info=True, company_news=True, company_financials=True, enable_all=True)],\n",
    "    instructions=[\n",
    "        \"Retrieve stock prices, analyst recommendations, and key financial data.\",\n",
    "        \"Focus on trends and present the data in tables with key insights.\"\n",
    "    ],\n",
    "    show_tool_calls=True,\n",
    "    markdown=True,\n",
    ")\n",
    "\n",
    "# Analyst Agent\n",
    "analyst_agent = Agent(\n",
    "    name=\"Analyst Agent\",\n",
    "    role=\"Ensure thoroughness and draw conclusions.\",\n",
    "    model=OpenAIChat(id=\"gpt-4o\"),\n",
    "    instructions=[\n",
    "        \"Check outputs for accuracy and completeness.\",\n",
    "        \"Synthesize data to provide a final sentiment score (1-10) with justification.\"\n",
    "    ],\n",
    "    show_tool_calls=True,\n",
    "    markdown=True,\n",
    ")\n",
    "\n",
    "# Team of Agents\n",
    "agent_team = Agent(\n",
    "    model=OpenAIChat(id=\"gpt-4o\"),\n",
    "    team=[sentiment_agent, finance_agent, analyst_agent],\n",
    "    instructions=[\n",
    "        \"Combine the expertise of all agents to provide a cohesive, well-supported response.\",\n",
    "        \"Always include references and dates for all data points and sources.\",\n",
    "        \"Present all data in structured tables for clarity.\",\n",
    "        \"Explain the methodology used to arrive at the sentiment scores.\"\n",
    "    ],\n",
    "    show_tool_calls=True,\n",
    "    markdown=True,\n",
    ")\n",
    "\n",
    "## Run Agent Team\n",
    "\n",
    "#\"Analyze the sentiment for the following companies during the week of December 9th-13th, 2024: AAL, PLTR, OTLY, HIMS, META, SQ, GOOG, TSLA, ADBE, ABNB, NVDA, COIN, CMG, BABA, KHC, NET, SNOW, LCID, JBLU. \\n\\n\"\n",
    "#\"Analyze the sentiment for the following companies during the week of December 9th-13th, 2024: OTLY, LCID, JBLU, AAL. \\n\\n\"\n",
    "#\"3. **Consolidated Analysis**: Combine the insights from sentiment analysis and financial data to assign a final sentiment score (1-10) for each company. Justify the scores and provide a summary of the most important findings. Recommend 'sell put option trades' for stocks with an upward trending sentiment. Show the bottom bollinger band stock price. Recommend a strike price and expiration date for the 3rd Friday of the next month based on sentiment, current stock price and delta.\\n\\n\"\n",
    "# Final Prompt\n",
    "agent_team.print_response(    \n",
    "    \"Analyze the sentiment for the following companies during the week of December 16th-20th, 2024: AMD, PLTR, HIMS, GOOG, TSLA, ADBE, NVDA, CMG, SOFI. \\n\\n\"\n",
    "    \"1. **Sentiment Analysis**: Search for relevant news articles and interpret the sentiment for each company. Provide sentiment scores on a scale of 1 to 10, explain your reasoning, and cite your sources.\\n\\n\"\n",
    "    \"2. **Financial Data**: Analyze stock price movements, analyst recommendations, and any notable financial data. Display current stock price and bollinger band chart. Highlight key trends or events, and present the data in tables.\\n\\n\"\n",
    "    \"3. **Consolidated Analysis**: Combine the insights from sentiment analysis and financial data to assign a final sentiment score (1-10) for each company. Justify the scores and provide a summary of the most important findings.\\n\\n\"\n",
    "    \"Ensure your response is accurate, comprehensive, and includes references to sources with publication dates.\",\n",
    "    stream=True\n",
    ")\n"
   ]
  }
 ],
 "metadata": {
  "kernelspec": {
   "display_name": ".venv",
   "language": "python",
   "name": "python3"
  },
  "language_info": {
   "codemirror_mode": {
    "name": "ipython",
    "version": 3
   },
   "file_extension": ".py",
   "mimetype": "text/x-python",
   "name": "python",
   "nbconvert_exporter": "python",
   "pygments_lexer": "ipython3",
   "version": "3.12.5"
  }
 },
 "nbformat": 4,
 "nbformat_minor": 2
}
